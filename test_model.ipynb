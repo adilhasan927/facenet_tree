{
 "cells": [
  {
   "cell_type": "code",
   "execution_count": 1,
   "id": "6083c0b1-a2da-49ad-8165-42ca32d38345",
   "metadata": {},
   "outputs": [],
   "source": [
    "import torch\n",
    "import torchvision"
   ]
  },
  {
   "cell_type": "code",
   "execution_count": 36,
   "id": "4e8ad5d0-105f-4ab2-8a99-2a644877399c",
   "metadata": {},
   "outputs": [],
   "source": [
    "import numpy as np"
   ]
  },
  {
   "cell_type": "code",
   "execution_count": 41,
   "id": "72b56b49-452a-41b7-9c9b-8316115ba7fb",
   "metadata": {},
   "outputs": [],
   "source": [
    "from PIL import Image"
   ]
  },
  {
   "cell_type": "code",
   "execution_count": 8,
   "id": "c75d0c8b-eaf9-4cc1-8c00-abb100c89bad",
   "metadata": {},
   "outputs": [],
   "source": [
    "from pathlib import Path\n",
    "import json"
   ]
  },
  {
   "cell_type": "code",
   "execution_count": null,
   "id": "031face9-09c2-4336-b08e-9a7a8d2686cd",
   "metadata": {},
   "outputs": [],
   "source": [
    "from src.params import Params"
   ]
  },
  {
   "cell_type": "code",
   "execution_count": 30,
   "id": "ccbdde41-3b8f-4bd3-ba8d-a778dcd6d10d",
   "metadata": {},
   "outputs": [],
   "source": [
    "params = Params('hyperparameters/batch_adaptive.json')"
   ]
  },
  {
   "cell_type": "code",
   "execution_count": 31,
   "id": "69fa81fe-3a6f-490e-b173-1379c886eaa0",
   "metadata": {},
   "outputs": [
    {
     "data": {
      "text/plain": [
       "<src.params.Params at 0x24a2bab5890>"
      ]
     },
     "execution_count": 31,
     "metadata": {},
     "output_type": "execute_result"
    }
   ],
   "source": [
    "params"
   ]
  },
  {
   "cell_type": "code",
   "execution_count": 2,
   "id": "a03a1960-fd8d-4694-8858-4087a36d88d9",
   "metadata": {},
   "outputs": [],
   "source": [
    "import importlib"
   ]
  },
  {
   "cell_type": "code",
   "execution_count": 83,
   "id": "b456e76f-3caf-45b3-8d90-8518182aaf7f",
   "metadata": {},
   "outputs": [],
   "source": [
    "#import src_pytorch\n",
    "#import src_pytorch.model\n",
    "src_pytorch = importlib.reload(src_pytorch)\n",
    "src_pytorch.model = importlib.reload(src_pytorch.model)\n",
    "face_model = src_pytorch.model.face_model"
   ]
  },
  {
   "cell_type": "code",
   "execution_count": 84,
   "id": "b9193d81-8da5-4137-844b-1e832e879d2e",
   "metadata": {},
   "outputs": [],
   "source": [
    "fm = face_model(params)"
   ]
  },
  {
   "cell_type": "code",
   "execution_count": 85,
   "id": "933c2150-64f9-4b87-8e76-26cad620a2bb",
   "metadata": {
    "scrolled": true
   },
   "outputs": [],
   "source": [
    "blank_image = torch.zeros((1, 10, 299, 299))"
   ]
  },
  {
   "cell_type": "code",
   "execution_count": 86,
   "id": "f6c02e4e-804f-4aeb-b31b-e17ae2c1ecc5",
   "metadata": {},
   "outputs": [
    {
     "name": "stdout",
     "output_type": "stream",
     "text": [
      "torch.Size([1, 3, 299, 299])\n"
     ]
    },
    {
     "data": {
      "text/plain": [
       "torch.Size([128])"
      ]
     },
     "execution_count": 86,
     "metadata": {},
     "output_type": "execute_result"
    }
   ],
   "source": [
    "fm.forward(blank_image).shape"
   ]
  },
  {
   "cell_type": "code",
   "execution_count": null,
   "id": "fad3caba-d8e7-4019-9488-737d9c753a9c",
   "metadata": {},
   "outputs": [],
   "source": []
  }
 ],
 "metadata": {
  "kernelspec": {
   "display_name": "Python 3 (ipykernel)",
   "language": "python",
   "name": "python3"
  },
  "language_info": {
   "codemirror_mode": {
    "name": "ipython",
    "version": 3
   },
   "file_extension": ".py",
   "mimetype": "text/x-python",
   "name": "python",
   "nbconvert_exporter": "python",
   "pygments_lexer": "ipython3",
   "version": "3.11.6"
  }
 },
 "nbformat": 4,
 "nbformat_minor": 5
}
